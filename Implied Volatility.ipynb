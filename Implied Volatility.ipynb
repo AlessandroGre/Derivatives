{
 "cells": [
  {
   "cell_type": "markdown",
   "id": "77e9cf86-9754-4875-acc9-f3d37021f140",
   "metadata": {},
   "source": [
    "## Implied Volatility\n",
    "\n",
    "The Black-Scholes pricing formula is usually used to solve for implied volatility. Quite simply, this means setting the Black-Scholes pricing formula equal to the market observed price and using a root finding algorithm to solve for the volatility parameter which sets the difference (between model and market price) to zero.\n",
    "The implied volatility is generally used for making trading decisions, calibrating other more exotic securities and researching market anomolies. For example, many traders use the so called volatility skew to understand the relative value of an option to other options trading in the market."
   ]
  },
  {
   "cell_type": "markdown",
   "id": "253b4a6d-8b36-4fad-a9bf-d16798b8e2cb",
   "metadata": {},
   "source": [
    "### Import Libraries"
   ]
  },
  {
   "cell_type": "code",
   "execution_count": 11,
   "id": "e3b361ab-ba4e-4f4d-a976-21088beb9190",
   "metadata": {
    "tags": []
   },
   "outputs": [],
   "source": [
    "import numpy as np\n",
    "from scipy.stats import norm\n",
    "from scipy.optimize import brentq"
   ]
  },
  {
   "cell_type": "markdown",
   "id": "76bdf3f9-d811-4f5e-93d7-3030c6009265",
   "metadata": {},
   "source": [
    "### Initial Data"
   ]
  },
  {
   "cell_type": "code",
   "execution_count": 9,
   "id": "65789e6b-3d77-4195-8bc3-e9a9b017f6ce",
   "metadata": {
    "tags": []
   },
   "outputs": [],
   "source": [
    "# underlying stock price\n",
    "S = 45.0\n",
    "# series of underlying stock prices to demonstrate a payoff profile\n",
    "S_ = np.arange(35.0, 55.0, 0.01) # strike price\n",
    "K = 45.0\n",
    "# time to expiration\n",
    "t = 164.0 / 365.0\n",
    "# risk free rate\n",
    "r = 0.02\n",
    "# volatility\n",
    "vol = 0.25"
   ]
  },
  {
   "cell_type": "markdown",
   "id": "b3351872-474c-47d0-8467-9b9bf1aa9741",
   "metadata": {},
   "source": [
    "### Black-Scholes"
   ]
  },
  {
   "cell_type": "code",
   "execution_count": 3,
   "id": "2484316b-4bad-4c5c-b511-e1e0300d46bb",
   "metadata": {
    "tags": []
   },
   "outputs": [],
   "source": [
    "def N(z):\n",
    "    \"\"\" Normal cumulative density function\n",
    "    :param z: point at which cumulative density is calculated \n",
    "    return: cumulative density under normal curve\n",
    "    \"\"\"\n",
    "    return norm.cdf(z)\n",
    "\n",
    "def black_scholes_call_value(S, K, r, t, vol): \n",
    "    \"\"\" Black-Scholes call option\n",
    "    :param S: underlying\n",
    "    :param K: strike price\n",
    "    :param r: rate\n",
    "    :param t: time to expiration\n",
    "    :param vol: volatility\n",
    "    :return: BS call option value\n",
    "    \"\"\"\n",
    "    d1 = (1.0 / (vol * np.sqrt(t))) * (np.log(S / K) + (r + 0.5 * vol ** 2.0) * t) \n",
    "    d2 = d1 - (vol * np.sqrt(t))\n",
    "    \n",
    "    return N(d1) * S - N(d2) * K * np.exp(-r * t) \n",
    "\n",
    "def black_scholes_put_value(S, K, r, t, vol):\n",
    "    \"\"\" Black-Scholes put option\n",
    "    :param S: underlying\n",
    "    :param K: strike price\n",
    "    :param r: rate\n",
    "    :param t: time to expiration\n",
    "    :param vol: volatility\n",
    "    :return: BS put option value\n",
    "    \"\"\"\n",
    "    d1 = (1.0 / (vol * np.sqrt(t))) * (np.log(S / K) + (r + 0.5 * vol ** 2.0) * t) \n",
    "    d2 = d1 - (vol * np.sqrt(t))\n",
    "    \n",
    "    return N(-d2) * K * np.exp(-r * t) - N(-d1) * S"
   ]
  },
  {
   "cell_type": "markdown",
   "id": "e38083c1-6f13-438a-8d76-157603d5e2d6",
   "metadata": {},
   "source": [
    "### Implied Volatility for a Call Option"
   ]
  },
  {
   "cell_type": "code",
   "execution_count": 4,
   "id": "95d184f1-d5c3-4519-a703-bed55a68d3fa",
   "metadata": {
    "tags": []
   },
   "outputs": [],
   "source": [
    "def call_implied_volatility_objective_function( S, K, r, t, vol, call_option_market_price):\n",
    "    return call_option_market_price - black_scholes_call_value(S, K, r, t, vol)"
   ]
  },
  {
   "cell_type": "code",
   "execution_count": 5,
   "id": "622743e7-ce3e-48ee-bd38-a70bbf04cff5",
   "metadata": {
    "tags": []
   },
   "outputs": [],
   "source": [
    "def call_implied_volatility(S, K, r, t, call_option_market_price, a=-2.0, b=2.0, xtol=1e-6):\n",
    "    \"\"\" Call implied volatility function\n",
    "    :param a: lower bound for brentq method\n",
    "    :param b: upper gound for brentq method\n",
    "    :param xtol: tolerance which is considered good enough\n",
    "    :return: volatility to sets the difference between market and model price to zero\n",
    "    \"\"\"\n",
    "    # avoid mirroring outer scope\n",
    "    _S, _K, _r, _t, _call_option_market_price = S, K, r, t, call_option_market_price # define a nested function that takes our target param as the input\n",
    "    \n",
    "    def fcn(vol):\n",
    "        # returns the difference between market and model price at given volatility\n",
    "        return call_implied_volatility_objective_function( _S, _K, _r, _t, vol, _call_option_market_price)\n",
    "    \n",
    "    # first we try to return the results from the brentq algorithm\n",
    "    try:\n",
    "        result = brentq(fcn, a=a, b=b, xtol=xtol)\n",
    "        # if the results are *too* small, sent to np.nan so we can later interpolate\n",
    "        return np.nan if result <= 1.0e-6 else result\n",
    "    \n",
    "    # if it fails then we return np.nan so we can later interpolate the results\n",
    "    except ValueError: \n",
    "        return np.nan"
   ]
  },
  {
   "cell_type": "markdown",
   "id": "a3097752-b801-4593-92af-bdf0b1e7845b",
   "metadata": {},
   "source": [
    "### Implied Volatility for a Put Option"
   ]
  },
  {
   "cell_type": "code",
   "execution_count": 6,
   "id": "f761945e-0dde-4990-87bc-e3ab7a15b6d1",
   "metadata": {
    "tags": []
   },
   "outputs": [],
   "source": [
    "def put_implied_volatility_objective_function(S, K, r, t, vol, put_option_market_price):\n",
    "    return put_option_market_price - black_scholes_put_value(S, K, r, t, vol)"
   ]
  },
  {
   "cell_type": "code",
   "execution_count": 7,
   "id": "6dc7b9d9-b1c8-46e7-8ed8-f5d0775b6e82",
   "metadata": {
    "tags": []
   },
   "outputs": [],
   "source": [
    "def put_implied_volatility(S, K, r, t, put_option_market_price, a=-2.0, b=2.0, xtol=1e-6):\n",
    "    \"\"\" Put implied volatility function\n",
    "    :param a: lower bound for brentq method\n",
    "    :param b: upper gound for brentq method\n",
    "    :param xtol: tolerance which is considered good enough\n",
    "    :return: volatility to sets the difference between market and model price to zero\n",
    "    \"\"\"\n",
    "    # avoid mirroring out scope\n",
    "    _S, _K, _r, _t, _put_option_market_price = S, K, r, t, put_option_market_price # define a nsted function that takes our target param as the input\n",
    "    \n",
    "    def fcn(vol):\n",
    "        # returns the difference between market and model price at given volatility\n",
    "        return put_implied_volatility_objective_function( _S, _K, _r, _t, vol, _put_option_market_price)\n",
    "    \n",
    "    # first we try to return the results from the brentq algorithm\n",
    "    try:\n",
    "        result = brentq(fcn, a=a, b=b, xtol=xtol)\n",
    "        # if the results are *too* small, sent to np.nan so we can later interpolate\n",
    "        return np.nan if result <= 1.0e-6 else result\n",
    "    \n",
    "    # if it fails then we return np.nan so we can later interpolate the results\n",
    "    except ValueError: \n",
    "        return np.nan"
   ]
  },
  {
   "cell_type": "markdown",
   "id": "2bfd6611-7bd9-451f-9554-95333e2bdd5c",
   "metadata": {},
   "source": [
    "### Implied Vol"
   ]
  },
  {
   "cell_type": "code",
   "execution_count": 12,
   "id": "2d618404-0da7-4719-b766-73307cced612",
   "metadata": {
    "tags": []
   },
   "outputs": [
    {
     "name": "stdout",
     "output_type": "stream",
     "text": [
      "Call implied volatility if market and model were equal (should be close to 0.25) 0.250000\n",
      "Put implied volatility if market and model were equal (should be close to 0.25) 0.250000\n"
     ]
    }
   ],
   "source": [
    "# get the call and put values to test the implied volatility output\n",
    "call_model_price = black_scholes_call_value(S, K, r, t, vol) \n",
    "print(\n",
    "    \"Call implied volatility if market and model were equal (should be close to 0.25) %0.6f\"\n",
    "% call_implied_volatility(S, K, r, t, call_model_price) )\n",
    "\n",
    "put_model_price = black_scholes_put_value(S, K, r, t, vol) \n",
    "print(\n",
    "    \"Put implied volatility if market and model were equal (should be close to 0.25) %0.6f\"\n",
    "% put_implied_volatility(S, K, r, t, put_model_price) )"
   ]
  },
  {
   "cell_type": "code",
   "execution_count": null,
   "id": "b81f9f16-e96b-4110-b3b5-d85ae3401582",
   "metadata": {},
   "outputs": [],
   "source": []
  }
 ],
 "metadata": {
  "kernelspec": {
   "display_name": "Python 3 (ipykernel)",
   "language": "python",
   "name": "python3"
  },
  "language_info": {
   "codemirror_mode": {
    "name": "ipython",
    "version": 3
   },
   "file_extension": ".py",
   "mimetype": "text/x-python",
   "name": "python",
   "nbconvert_exporter": "python",
   "pygments_lexer": "ipython3",
   "version": "3.9.16"
  }
 },
 "nbformat": 4,
 "nbformat_minor": 5
}
