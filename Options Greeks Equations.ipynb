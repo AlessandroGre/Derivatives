{
 "cells": [
  {
   "cell_type": "markdown",
   "id": "f235269d-6074-4174-bd65-63502a855951",
   "metadata": {},
   "source": [
    "## The Greeks\n",
    "\n",
    "In mathematical terms, the Greeks are simply the partial derivatives of the option pricing formula. In other words, these are the sensitivities in the movement of the option price relative to the movement of other aspects of the input variables. \n",
    "\n",
    "Because the assumptions required for the Black-Scholes model do not hold true in practice, the plain vanilla formula presented above is not usually used for pricing options for the purposes of trading. (In fact if one were to rely on Black-Scholes to manage a portfolio of options, that trader would surely lose money.) It is however, largely used for understanding the sensitivities of the option with respect to it's parameters and to hedge."
   ]
  },
  {
   "cell_type": "markdown",
   "id": "7cd2261a-a381-45aa-bebb-a6ce1020d769",
   "metadata": {},
   "source": [
    "- **Delta**. Partial derivative of the option value with respect to the change in the underlying stock price. Delta measures how the underlying option moves with respect to moves in the underlying stock. The formula for delta is different for calls and puts.\n",
    "\n",
    "  Call delta\n",
    "\n",
    "  $$\n",
    "  \\frac{\\partial V}{\\partial S} = N(d_1)\n",
    "  $$\n",
    "\n",
    "  Put delta\n",
    "\n",
    "  $$\n",
    "  \\frac{\\partial V}{\\partial S} = N(d_1) - 1\n",
    "  $$\n",
    "\n",
    "- **Gamma**. Second partial derivative of the option value with respect to the change in the underlying stock price. Gamma measures movements in delta or the convexity in the value of the option with respect to the underlying.\n",
    "\n",
    "  Gamma (same for call and put)\n",
    "\n",
    "  $$\n",
    "  \\frac{\\partial^2 V}{\\partial S^2} = \\frac{\\phi(d_1)}{S\\sigma\\sqrt{T - t}}\n",
    "  $$\n",
    "\n",
    "- **Vega**. Partial derivative of the option value with respect to the change in the volatility of the underlying. Vega measures how the option price moves with respect to the volatility of the underlying.\n",
    "\n",
    "  Vega (same for call and put)\n",
    "\n",
    "  $$\n",
    "  \\frac{\\partial V}{\\partial \\sigma} = S\\phi(d_1)\\sqrt{T - t}\n",
    "  $$\n",
    "\n",
    "- **Theta**. Partial derivative of the option value with respect to the change in time. Theta measures how the value of the option decays as time passes.\n",
    "\n",
    "  Call theta\n",
    "\n",
    "  $$\n",
    "  \\frac{\\partial V}{\\partial t} = -\\frac{S\\phi(d_1)\\sigma}{2\\sqrt{T - t}} - rKe^{-r(T - t)}N(d_2)\n",
    "  $$\n",
    "\n",
    "  Put theta\n",
    "\n",
    "  $$\n",
    "  \\frac{\\partial V}{\\partial t} = -\\frac{S\\phi(d_1)\\sigma}{2\\sqrt{T - t}} + rKe^{-r(T - t)}N(-d_2)\n",
    "  $$\n",
    "\n",
    "- **Rho**. Partial derivative of the option value with respect to change in the risk-free interest rate. Rho measures how the option value changes as the interest rate changes.\n",
    "\n",
    "  Call rho\n",
    "\n",
    "  $$\n",
    "  \\frac{\\partial V}{\\partial r} = K(T - t)e^{-r(T - t)}N(d_2)\n",
    "  $$\n",
    "\n",
    "  Put rho\n",
    "\n",
    "  $$\n",
    "  \\frac{\\partial V}{\\partial r} = -K(T - t)e^{-r(T - t)}N(-d_2)\n",
    "  $$\n",
    "\n",
    "Where $\\phi$\n",
    "\n",
    "$$\n",
    "\\phi(x) = \\frac{e^{-\\frac{x^2}{2}}}{\\sqrt{2\\pi}}\n",
    "$$"
   ]
  },
  {
   "cell_type": "markdown",
   "id": "017f8911-43b6-4c0a-85aa-73a16389bdb3",
   "metadata": {},
   "source": [
    "### Import Libraries"
   ]
  },
  {
   "cell_type": "code",
   "execution_count": 2,
   "id": "6bf28d93-48c6-4824-87ff-e3752bef102e",
   "metadata": {
    "tags": []
   },
   "outputs": [],
   "source": [
    "%matplotlib inline\n",
    "import numpy as np\n",
    "import matplotlib.pyplot as plt\n",
    "from scipy.stats import norm\n",
    "import warnings\n",
    "warnings.filterwarnings(\"ignore\")"
   ]
  },
  {
   "cell_type": "markdown",
   "id": "20545fa7-078e-4483-b835-ea934ce1999e",
   "metadata": {},
   "source": [
    "### Initial Data"
   ]
  },
  {
   "cell_type": "code",
   "execution_count": 3,
   "id": "c1d1da4c-0292-44fb-95be-588e083b68eb",
   "metadata": {
    "tags": []
   },
   "outputs": [],
   "source": [
    "# underlying stock price\n",
    "S = 45.0\n",
    "# series of underlying stock prices to demonstrate a payoff profile\n",
    "S_ = np.arange(35.0, 55.0, 0.01) # strike price\n",
    "K = 45.0\n",
    "# time to expiration\n",
    "t = 164.0 / 365.0\n",
    "# risk free rate\n",
    "r = 0.02\n",
    "# volatility\n",
    "vol = 0.25\n",
    "# black scholes prices for demonstrating trades\n",
    "atm_call_premium = 3.20 \n",
    "atm_put_premium = 2.79\n",
    "otm_call_premium = 1.39 \n",
    "otm_put_premium = 0.92\n",
    "\n",
    "call_payoff = lambda S, K: np.maximum(S_ - K, 0.0)\n",
    "put_payoff = lambda S, K: np.maximum(K - S_, 0.0)"
   ]
  },
  {
   "cell_type": "code",
   "execution_count": 8,
   "id": "2c919c95-2e30-4f97-b5b8-4b76be6d4e92",
   "metadata": {
    "tags": []
   },
   "outputs": [
    {
     "name": "stdout",
     "output_type": "stream",
     "text": [
      "Black-Scholes call delta 0.5546\n",
      "Black-Scholes put delta -0.4454\n",
      "Black-Scholes gamma 0.0524\n",
      "Black-Scholes vega 0.1192\n",
      "Black-Scholes call theta -0.0103\n",
      "Black-Scholes put theta -0.0078\n",
      "Black-Scholes call rho 0.0978\n",
      "Black-Scholes put rho -0.1026\n"
     ]
    }
   ],
   "source": [
    "def N(z):\n",
    "    return norm.cdf(z)\n",
    "\n",
    "# helper function phi\n",
    "def phi(x):\n",
    "    pi = 3.1416\n",
    "    return np.exp(-0.5 * x * x) / (np.sqrt(2.0 * pi))\n",
    "\n",
    "def gamma(S, K, r, t, vol):\n",
    "    d1 = (1.0 / (vol * np.sqrt(t))) * (np.log(S / K) + (r + 0.5 * vol ** 2.0) * t)\n",
    "    return phi(d1) / (S * vol * np.sqrt(t))\n",
    "\n",
    "def vega(S, K, r, t, vol):\n",
    "    d1 = (1.0 / (vol * np.sqrt(t))) * (np.log(S / K) + (r + 0.5 * vol ** 2.0) * t)\n",
    "    return (S * phi(d1) * np.sqrt(t)) / 100.0\n",
    "\n",
    "# call options\n",
    "def call_delta(S, K, r, t, vol):\n",
    "    d1 = (1.0 / (vol * np.sqrt(t))) * (np.log(S / K) + (r + 0.5 * vol ** 2.0) * t)\n",
    "    return N(d1)\n",
    "\n",
    "def call_theta(S, K, r, t, vol):\n",
    "    d1 = (1.0 / (vol * np.sqrt(t))) * (np.log(S / K) + (r + 0.5 * vol ** 2.0) * t)\n",
    "    d2 = d1 - (vol * np.sqrt(t))\n",
    "    theta = -((S * phi(d1) * vol) / (2.0 * np.sqrt(t))) - (r * K * np.exp(-r * t) * N(d2))\n",
    "    return theta / 365.0\n",
    "\n",
    "def call_rho(S, K, r, t, vol):\n",
    "    d1 = (1.0 / (vol * np.sqrt(t))) * (np.log(S / K) + (r + 0.5 * vol ** 2.0) * t)\n",
    "    d2 = d1 - (vol * np.sqrt(t))\n",
    "    rho = K * t * np.exp(-r * t) * N(d2)\n",
    "    return rho / 100.0\n",
    "\n",
    "# put options\n",
    "def put_delta(S, K, r, t, vol):\n",
    "    d1 = (1.0 / (vol * np.sqrt(t))) * (np.log(S / K) + (r + 0.5 * vol ** 2.0) * t)\n",
    "    return N(d1) - 1.0\n",
    "\n",
    "def put_theta(S, K, r, t, vol):\n",
    "    d1 = (1.0 / (vol * np.sqrt(t))) * (np.log(S / K) + (r + 0.5 * vol ** 2.0) * t)\n",
    "    d2 = d1 - (vol * np.sqrt(t))\n",
    "    theta = -((S * phi(d1) * vol) / (2.0 * np.sqrt(t))) + (r * K * np.exp(-r * t) * N(-d2))\n",
    "    return theta / 365.0\n",
    "\n",
    "def put_rho(S, K, r, t, vol):\n",
    "    d1 = (1.0 / (vol * np.sqrt(t))) * (np.log(S / K) + (r + 0.5 * vol ** 2.0) * t)\n",
    "    d2 = d1 - (vol * np.sqrt(t))\n",
    "    rho = -K * t * np.exp(-r * t) * N(-d2)\n",
    "    return rho / 100.0\n",
    "\n",
    "# print each of the results\n",
    "print(\"Black-Scholes call delta %0.4f\" % call_delta(S, K, r, t, vol))\n",
    "print(\"Black-Scholes put delta %0.4f\" % put_delta(S, K, r, t, vol))\n",
    "print(\"Black-Scholes gamma %0.4f\" % gamma(S, K, r, t, vol))\n",
    "print(\"Black-Scholes vega %0.4f\" % vega(S, K, r, t, vol))\n",
    "print(\"Black-Scholes call theta %0.4f\" % call_theta(S, K, r, t, vol))\n",
    "print(\"Black-Scholes put theta %0.4f\" % put_theta(S, K, r, t, vol))\n",
    "print(\"Black-Scholes call rho %0.4f\" % call_rho(S, K, r, t, vol))\n",
    "print(\"Black-Scholes put rho %0.4f\" % put_rho(S, K, r, t, vol))"
   ]
  },
  {
   "cell_type": "markdown",
   "id": "d132da04-a929-4a8d-bd74-c12f6a317423",
   "metadata": {},
   "source": [
    "### Interpretation of Black-Scholes Results\n",
    "\n",
    "#### Delta\n",
    "- **Call Delta (0.5546)**: This indicates that for a small increase in the underlying stock price, the price of the call option is expected to increase by approximately 0.5546 units. A delta of 0.5546 means the call option is moderately sensitive to changes in the stock price.\n",
    "- **Put Delta (-0.4454)**: This indicates that for a small increase in the underlying stock price, the price of the put option is expected to decrease by approximately 0.4454 units. A delta of -0.4454 means the put option is moderately sensitive to changes in the stock price, but in the opposite direction to the call option.\n",
    "\n",
    "#### Gamma\n",
    "- **Gamma (0.0524)**: A gamma of 0.0524 means that for a small increase in the stock price, the delta of the option will increase by 0.0524. Gamma is the same for both call and put options and measures the convexity of the option's value.\n",
    "\n",
    "#### Vega\n",
    "- **Vega (0.1192)**: A vega of 0.1192 means that for a 1% increase in volatility, the price of the option is expected to increase by approximately 0.1192 units. Both call and put options have the same vega.\n",
    "\n",
    "#### Theta\n",
    "- **Call Theta (-0.0103)**: This indicates the rate at which the price of the call option declines as time passes, holding all else constant. A theta of -0.0103 means that the call option loses approximately 0.0103 units of its value per day.\n",
    "- **Put Theta (-0.0078)**: A theta of -0.0078 means that the put option loses approximately 0.0078 units of its value per day. Both call and put options typically have negative theta, reflecting the time decay of options.\n",
    "\n",
    "#### Rho\n",
    "- **Call Rho (0.0978)**: A rho of 0.0978 means that for a 1% increase in the interest rate, the price of the call option is expected to increase by approximately 0.0978 units.\n",
    "- **Put Rho (-0.1026)**: A rho of -0.1026 means that for a 1% increase in the interest rate, the price of the put option is expected to decrease by approximately 0.1026 units. Rho for calls is positive as higher rates increase the call's value, while rho for puts is negative as higher rates decrease the put's value."
   ]
  },
  {
   "cell_type": "code",
   "execution_count": null,
   "id": "639a8194-242c-4e91-b570-b985ea749a36",
   "metadata": {},
   "outputs": [],
   "source": []
  }
 ],
 "metadata": {
  "kernelspec": {
   "display_name": "Python 3 (ipykernel)",
   "language": "python",
   "name": "python3"
  },
  "language_info": {
   "codemirror_mode": {
    "name": "ipython",
    "version": 3
   },
   "file_extension": ".py",
   "mimetype": "text/x-python",
   "name": "python",
   "nbconvert_exporter": "python",
   "pygments_lexer": "ipython3",
   "version": "3.9.16"
  }
 },
 "nbformat": 4,
 "nbformat_minor": 5
}
